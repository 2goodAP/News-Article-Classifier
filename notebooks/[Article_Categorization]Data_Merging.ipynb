{
  "nbformat": 4,
  "nbformat_minor": 2,
  "metadata": {
    "colab": {
      "name": "[Article-Categorization]Data-Merging.ipynb",
      "provenance": [],
      "collapsed_sections": []
    },
    "kernelspec": {
      "name": "python3",
      "display_name": "Python 3.8.10 64-bit ('tf': conda)"
    },
    "language_info": {
      "name": "python",
      "version": "3.8.10",
      "mimetype": "text/x-python",
      "codemirror_mode": {
        "name": "ipython",
        "version": 3
      },
      "pygments_lexer": "ipython3",
      "nbconvert_exporter": "python",
      "file_extension": ".py"
    },
    "interpreter": {
      "hash": "7044b324f88c4208d441c8fce3c8f6c454026eeaf7e810a2852062e3590255dc"
    }
  },
  "cells": [
    {
      "cell_type": "code",
      "execution_count": 9,
      "source": [
        "import re\r\n",
        "import os\r\n",
        "import numpy as np\r\n",
        "import pandas as pd"
      ],
      "outputs": [],
      "metadata": {
        "id": "RE0tQcMUQMkr"
      }
    },
    {
      "cell_type": "code",
      "execution_count": 10,
      "source": [
        "files = os.listdir(\"../data/Categories/\")"
      ],
      "outputs": [],
      "metadata": {
        "id": "BT8gUwR1SEtQ"
      }
    },
    {
      "cell_type": "code",
      "execution_count": 11,
      "source": [
        "def prepare_csv(filepath):\r\n",
        "    df = pd.DataFrame({\r\n",
        "        \"title\": [],\r\n",
        "        \"category\": [],\r\n",
        "        \"desc\": []\r\n",
        "    })\r\n",
        "    files = os.listdir(filepath)\r\n",
        "    for f in files:\r\n",
        "        fpath = os.path.join(filepath, f)\r\n",
        "        df_temp = pd.read_csv(fpath)\r\n",
        "        df = pd.concat([df, df_temp])\r\n",
        "    df.reset_index(inplace=True)\r\n",
        "    df.drop(['index'], axis=1, inplace=True)\r\n",
        "    return df"
      ],
      "outputs": [],
      "metadata": {
        "id": "4JiBbib8XS06"
      }
    },
    {
      "cell_type": "code",
      "execution_count": 12,
      "source": [
        "df = prepare_csv(\"../data/Categories/\")"
      ],
      "outputs": [],
      "metadata": {
        "id": "SM16EvVxZY3R"
      }
    },
    {
      "cell_type": "code",
      "execution_count": 13,
      "source": [
        "categories = df['category'].unique()\r\n",
        "for category in categories:\r\n",
        "    size = df[df['category'] == category].shape[0]\r\n",
        "    print(f\"{size} articles of {category}\")"
      ],
      "outputs": [
        {
          "output_type": "stream",
          "name": "stdout",
          "text": [
            "501 articles of ARTS & CULTURE\n",
            "501 articles of ARTS\n",
            "501 articles of BUSINESS\n",
            "380 articles of COMEDY\n",
            "300 articles of CRIME\n",
            "490 articles of EDUCATION\n",
            "501 articles of ENTERTAINMENT\n",
            "501 articles of ENVIRONMENT\n",
            "347 articles of MEDIA\n",
            "501 articles of POLITICS\n",
            "501 articles of RELIGION\n",
            "350 articles of SCIENCE\n",
            "501 articles of SPORTS\n",
            "501 articles of TECH\n",
            "501 articles of WOMEN\n"
          ]
        }
      ],
      "metadata": {}
    },
    {
      "cell_type": "code",
      "execution_count": 14,
      "source": [
        "df = df.rename(columns={'desc': 'body'})\r\n",
        "df = df[['category', 'title', 'body']]"
      ],
      "outputs": [],
      "metadata": {}
    },
    {
      "cell_type": "code",
      "execution_count": 15,
      "source": [
        "df"
      ],
      "outputs": [
        {
          "output_type": "execute_result",
          "data": {
            "text/plain": [
              "            category                                              title  \\\n",
              "0     ARTS & CULTURE  Modeling Agencies Enabled Sexual Predators For...   \n",
              "1     ARTS & CULTURE  Actor Jeff Hiller Talks “Bright Colors And Bol...   \n",
              "2     ARTS & CULTURE  New Yorker Cover Puts Trump 'In The Hole' Afte...   \n",
              "3     ARTS & CULTURE  Man Surprises Girlfriend By Drawing Them In Di...   \n",
              "4     ARTS & CULTURE  This Artist Gives Renaissance-Style Sculptures...   \n",
              "...              ...                                                ...   \n",
              "6872           WOMEN  Casually Fearless: Why Millennials Are Natural...   \n",
              "6873           WOMEN                               Happy Birthday To Us   \n",
              "6874           WOMEN                                The Culture of Love   \n",
              "6875           WOMEN                            Carpe Diem, Oprah Style   \n",
              "6876           WOMEN                    My Month of Online Dating Detox   \n",
              "\n",
              "                                                   body  \n",
              "0     In October 2017, Carolyn Kramer received a dis...  \n",
              "1     This week I talked with actor Jeff Hiller abou...  \n",
              "2     The New Yorker is taking on President Donald T...  \n",
              "3     Kellen Hickey, a 26-year-old who lives in Huds...  \n",
              "4     There’s something about combining the traditio...  \n",
              "...                                                 ...  \n",
              "6872  I still think about that Tuesday night dinner ...  \n",
              "6873  I remember the morning of my high school gradu...  \n",
              "6874  My husband, Gene, doesn't wear pajamas. I aske...  \n",
              "6875  \\nBy AntonioGuillem, via ThinkStock\\nBy  Lisa ...  \n",
              "6876  My name is Jamie and I'm an online date-aholic...  \n",
              "\n",
              "[6877 rows x 3 columns]"
            ],
            "text/html": [
              "<div>\n",
              "<style scoped>\n",
              "    .dataframe tbody tr th:only-of-type {\n",
              "        vertical-align: middle;\n",
              "    }\n",
              "\n",
              "    .dataframe tbody tr th {\n",
              "        vertical-align: top;\n",
              "    }\n",
              "\n",
              "    .dataframe thead th {\n",
              "        text-align: right;\n",
              "    }\n",
              "</style>\n",
              "<table border=\"1\" class=\"dataframe\">\n",
              "  <thead>\n",
              "    <tr style=\"text-align: right;\">\n",
              "      <th></th>\n",
              "      <th>category</th>\n",
              "      <th>title</th>\n",
              "      <th>body</th>\n",
              "    </tr>\n",
              "  </thead>\n",
              "  <tbody>\n",
              "    <tr>\n",
              "      <th>0</th>\n",
              "      <td>ARTS &amp; CULTURE</td>\n",
              "      <td>Modeling Agencies Enabled Sexual Predators For...</td>\n",
              "      <td>In October 2017, Carolyn Kramer received a dis...</td>\n",
              "    </tr>\n",
              "    <tr>\n",
              "      <th>1</th>\n",
              "      <td>ARTS &amp; CULTURE</td>\n",
              "      <td>Actor Jeff Hiller Talks “Bright Colors And Bol...</td>\n",
              "      <td>This week I talked with actor Jeff Hiller abou...</td>\n",
              "    </tr>\n",
              "    <tr>\n",
              "      <th>2</th>\n",
              "      <td>ARTS &amp; CULTURE</td>\n",
              "      <td>New Yorker Cover Puts Trump 'In The Hole' Afte...</td>\n",
              "      <td>The New Yorker is taking on President Donald T...</td>\n",
              "    </tr>\n",
              "    <tr>\n",
              "      <th>3</th>\n",
              "      <td>ARTS &amp; CULTURE</td>\n",
              "      <td>Man Surprises Girlfriend By Drawing Them In Di...</td>\n",
              "      <td>Kellen Hickey, a 26-year-old who lives in Huds...</td>\n",
              "    </tr>\n",
              "    <tr>\n",
              "      <th>4</th>\n",
              "      <td>ARTS &amp; CULTURE</td>\n",
              "      <td>This Artist Gives Renaissance-Style Sculptures...</td>\n",
              "      <td>There’s something about combining the traditio...</td>\n",
              "    </tr>\n",
              "    <tr>\n",
              "      <th>...</th>\n",
              "      <td>...</td>\n",
              "      <td>...</td>\n",
              "      <td>...</td>\n",
              "    </tr>\n",
              "    <tr>\n",
              "      <th>6872</th>\n",
              "      <td>WOMEN</td>\n",
              "      <td>Casually Fearless: Why Millennials Are Natural...</td>\n",
              "      <td>I still think about that Tuesday night dinner ...</td>\n",
              "    </tr>\n",
              "    <tr>\n",
              "      <th>6873</th>\n",
              "      <td>WOMEN</td>\n",
              "      <td>Happy Birthday To Us</td>\n",
              "      <td>I remember the morning of my high school gradu...</td>\n",
              "    </tr>\n",
              "    <tr>\n",
              "      <th>6874</th>\n",
              "      <td>WOMEN</td>\n",
              "      <td>The Culture of Love</td>\n",
              "      <td>My husband, Gene, doesn't wear pajamas. I aske...</td>\n",
              "    </tr>\n",
              "    <tr>\n",
              "      <th>6875</th>\n",
              "      <td>WOMEN</td>\n",
              "      <td>Carpe Diem, Oprah Style</td>\n",
              "      <td>\\nBy AntonioGuillem, via ThinkStock\\nBy  Lisa ...</td>\n",
              "    </tr>\n",
              "    <tr>\n",
              "      <th>6876</th>\n",
              "      <td>WOMEN</td>\n",
              "      <td>My Month of Online Dating Detox</td>\n",
              "      <td>My name is Jamie and I'm an online date-aholic...</td>\n",
              "    </tr>\n",
              "  </tbody>\n",
              "</table>\n",
              "<p>6877 rows × 3 columns</p>\n",
              "</div>"
            ]
          },
          "metadata": {},
          "execution_count": 15
        }
      ],
      "metadata": {}
    },
    {
      "cell_type": "code",
      "execution_count": 31,
      "source": [
        "df['category'].replace({\r\n",
        "    \"ARTS\" : \"ARTS & CULTURE\"\r\n",
        "}, inplace=True)"
      ],
      "outputs": [],
      "metadata": {}
    },
    {
      "cell_type": "code",
      "execution_count": 33,
      "source": [
        "df.to_csv(\"../data/raw/data.csv\", index=False)"
      ],
      "outputs": [],
      "metadata": {}
    }
  ]
}