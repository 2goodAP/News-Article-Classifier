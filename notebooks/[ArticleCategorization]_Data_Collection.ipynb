{
  "nbformat": 4,
  "nbformat_minor": 0,
  "metadata": {
    "colab": {
      "name": "[ArticleCategorization] Data-Collection.ipynb",
      "provenance": [],
      "collapsed_sections": []
    },
    "kernelspec": {
      "name": "python3",
      "display_name": "Python 3"
    },
    "language_info": {
      "name": "python"
    }
  },
  "cells": [
    {
      "cell_type": "code",
      "metadata": {
        "id": "qSLISQCA3J-S"
      },
      "source": [
        "import numpy as np\n",
        "import pandas as pd\n",
        "import matplotlib.pyplot as plt\n",
        "import os"
      ],
      "execution_count": null,
      "outputs": []
    },
    {
      "cell_type": "markdown",
      "metadata": {
        "id": "pWgeQWrp3mg0"
      },
      "source": [
        "## Data Collection"
      ]
    },
    {
      "cell_type": "code",
      "metadata": {
        "colab": {
          "base_uri": "https://localhost:8080/"
        },
        "id": "Sl7Fx6Fq3iSg",
        "outputId": "a1ee9451-fff6-4c8d-b7ad-db3a0c92ee69"
      },
      "source": [
        "ROOT_DIR = os.getcwd()\n",
        "DATA_DIR = os.path.join(ROOT_DIR, \"data\", \"raw\", \"bbc\")\n",
        "DATA_DIR"
      ],
      "execution_count": null,
      "outputs": [
        {
          "output_type": "execute_result",
          "data": {
            "text/plain": [
              "'E:\\\\ML Projects\\\\Article-Classification\\\\data\\\\raw\\\\bbc'"
            ]
          },
          "metadata": {
            "tags": []
          },
          "execution_count": 24
        }
      ]
    },
    {
      "cell_type": "code",
      "metadata": {
        "colab": {
          "base_uri": "https://localhost:8080/"
        },
        "id": "zluQLA9s3zMD",
        "outputId": "620c6ced-6264-431f-8556-a198ec961ac6"
      },
      "source": [
        "os.listdir(DATA_DIR)"
      ],
      "execution_count": null,
      "outputs": [
        {
          "output_type": "execute_result",
          "data": {
            "text/plain": [
              "['business', 'entertainment', 'politics', 'sport', 'tech']"
            ]
          },
          "metadata": {
            "tags": []
          },
          "execution_count": 25
        }
      ]
    },
    {
      "cell_type": "code",
      "metadata": {
        "id": "94y1v4hb3129"
      },
      "source": [
        "categories = os.listdir(DATA_DIR)"
      ],
      "execution_count": null,
      "outputs": []
    },
    {
      "cell_type": "code",
      "metadata": {
        "colab": {
          "base_uri": "https://localhost:8080/"
        },
        "id": "fkt70cEp37QE",
        "outputId": "283e86ae-0d78-4d89-fde3-3a184a248a39"
      },
      "source": [
        "categories"
      ],
      "execution_count": null,
      "outputs": [
        {
          "output_type": "execute_result",
          "data": {
            "text/plain": [
              "['business', 'entertainment', 'politics', 'sport', 'tech']"
            ]
          },
          "metadata": {
            "tags": []
          },
          "execution_count": 27
        }
      ]
    },
    {
      "cell_type": "code",
      "metadata": {
        "id": "Xo7JWoL837yp"
      },
      "source": [
        "file_path = os.path.join(DATA_DIR, \"business\", \"001.txt\")"
      ],
      "execution_count": null,
      "outputs": []
    },
    {
      "cell_type": "code",
      "metadata": {
        "colab": {
          "base_uri": "https://localhost:8080/"
        },
        "id": "Gq1EcPI-38o5",
        "outputId": "d094718b-14f9-4b84-ac7a-08d8e27fd128"
      },
      "source": [
        "with open(file_path, \"r\") as data:\n",
        "    content = data.readlines()\n",
        "    title = content[0]\n",
        "    body = content[1:]\n",
        "    print(body)"
      ],
      "execution_count": null,
      "outputs": [
        {
          "output_type": "stream",
          "text": [
            "['\\n', 'Quarterly profits at US media giant TimeWarner jumped 76% to $1.13bn (Â£600m) for the three months to December, from $639m year-earlier.\\n', '\\n', 'The firm, which is now one of the biggest investors in Google, benefited from sales of high-speed internet connections and higher advert sales. TimeWarner said fourth quarter sales rose 2% to $11.1bn from $10.9bn. Its profits were buoyed by one-off gains which offset a profit dip at Warner Bros, and less users for AOL.\\n', '\\n', \"Time Warner said on Friday that it now owns 8% of search-engine Google. But its own internet business, AOL, had has mixed fortunes. It lost 464,000 subscribers in the fourth quarter profits were lower than in the preceding three quarters. However, the company said AOL's underlying profit before exceptional items rose 8% on the back of stronger internet advertising revenues. It hopes to increase subscribers by offering the online service free to TimeWarner internet customers and will try to sign up AOL's existing customers for high-speed broadband. TimeWarner also has to restate 2000 and 2003 results following a probe by the US Securities Exchange Commission (SEC), which is close to concluding.\\n\", '\\n', 'Time Warner\\'s fourth quarter profits were slightly better than analysts\\' expectations. But its film division saw profits slump 27% to $284m, helped by box-office flops Alexander and Catwoman, a sharp contrast to year-earlier, when the third and final film in the Lord of the Rings trilogy boosted results. For the full-year, TimeWarner posted a profit of $3.36bn, up 27% from its 2003 performance, while revenues grew 6.4% to $42.09bn. \"Our financial performance was strong, meeting or exceeding all of our full-year objectives and greatly enhancing our flexibility,\" chairman and chief executive Richard Parsons said. For 2005, TimeWarner is projecting operating earnings growth of around 5%, and also expects higher revenue and wider profit margins.\\n', '\\n', \"TimeWarner is to restate its accounts as part of efforts to resolve an inquiry into AOL by US market regulators. It has already offered to pay $300m to settle charges, in a deal that is under review by the SEC. The company said it was unable to estimate the amount it needed to set aside for legal reserves, which it previously set at $500m. It intends to adjust the way it accounts for a deal with German music publisher Bertelsmann's purchase of a stake in AOL Europe, which it had reported as advertising revenue. It will now book the sale of its stake in AOL Europe as a loss on the value of that stake.\\n\"]\n"
          ],
          "name": "stdout"
        }
      ]
    },
    {
      "cell_type": "code",
      "metadata": {
        "id": "OseZHMqJ4SAk"
      },
      "source": [
        "def prepare_data(file_path):\n",
        "    articles = os.listdir(file_path)\n",
        "    categories = [file_path.split(\"\\\\\")[-1]] * len(articles)\n",
        "    title = []\n",
        "    body = []\n",
        "    for article in articles:\n",
        "        file_name = os.path.join(file_path, article)\n",
        "        with open(file_name , \"r\") as single_article:\n",
        "            content = single_article.readlines()\n",
        "            title.append(content[0])\n",
        "            body.append(content[1:])\n",
        "    return categories, title, body"
      ],
      "execution_count": null,
      "outputs": []
    },
    {
      "cell_type": "code",
      "metadata": {
        "id": "ftBAlKGl6wN0"
      },
      "source": [
        "paths = [os.path.join(DATA_DIR, dir) for dir in categories]"
      ],
      "execution_count": null,
      "outputs": []
    },
    {
      "cell_type": "code",
      "metadata": {
        "id": "6tJkCRmn6yDA"
      },
      "source": [
        "def create_data_dictionary(paths):\n",
        "    data = {\n",
        "        \"category\": [],\n",
        "        \"title\": [],\n",
        "        \"body\": []    \n",
        "        }\n",
        "    for path in paths:\n",
        "        category, title, body = prepare_data(path)\n",
        "        data[\"category\"] += category\n",
        "        data[\"title\"] += title\n",
        "        data[\"body\"] += body\n",
        "\n",
        "    return data"
      ],
      "execution_count": null,
      "outputs": []
    },
    {
      "cell_type": "code",
      "metadata": {
        "id": "mFacse5c88CP"
      },
      "source": [
        "data = create_data_dictionary(paths)"
      ],
      "execution_count": null,
      "outputs": []
    },
    {
      "cell_type": "code",
      "metadata": {
        "id": "gL6pT3e49B9x"
      },
      "source": [
        "df = pd.DataFrame(data)"
      ],
      "execution_count": null,
      "outputs": []
    },
    {
      "cell_type": "code",
      "metadata": {
        "colab": {
          "base_uri": "https://localhost:8080/",
          "height": 203
        },
        "id": "xAolDjr6919G",
        "outputId": "7153a365-685e-41da-e72a-dc4509f1f205"
      },
      "source": [
        "df.head()"
      ],
      "execution_count": null,
      "outputs": [
        {
          "output_type": "execute_result",
          "data": {
            "text/plain": [
              "   category                                title  \\\n",
              "0  business  Ad sales boost Time Warner profit\\n   \n",
              "1  business   Dollar gains on Greenspan speech\\n   \n",
              "2  business  Yukos unit buyer faces loan claim\\n   \n",
              "3  business  High fuel prices hit BA's profits\\n   \n",
              "4  business  Pernod takeover talk lifts Domecq\\n   \n",
              "\n",
              "                                                body  \n",
              "0  [\\n, Quarterly profits at US media giant TimeW...  \n",
              "1  [\\n, The dollar has hit its highest level agai...  \n",
              "2  [\\n, The owners of embattled Russian oil giant...  \n",
              "3  [\\n, British Airways has blamed high fuel pric...  \n",
              "4  [\\n, Shares in UK drinks and food firm Allied ...  "
            ],
            "text/html": [
              "<div>\n",
              "<style scoped>\n",
              "    .dataframe tbody tr th:only-of-type {\n",
              "        vertical-align: middle;\n",
              "    }\n",
              "\n",
              "    .dataframe tbody tr th {\n",
              "        vertical-align: top;\n",
              "    }\n",
              "\n",
              "    .dataframe thead th {\n",
              "        text-align: right;\n",
              "    }\n",
              "</style>\n",
              "<table border=\"1\" class=\"dataframe\">\n",
              "  <thead>\n",
              "    <tr style=\"text-align: right;\">\n",
              "      <th></th>\n",
              "      <th>category</th>\n",
              "      <th>title</th>\n",
              "      <th>body</th>\n",
              "    </tr>\n",
              "  </thead>\n",
              "  <tbody>\n",
              "    <tr>\n",
              "      <th>0</th>\n",
              "      <td>business</td>\n",
              "      <td>Ad sales boost Time Warner profit\\n</td>\n",
              "      <td>[\\n, Quarterly profits at US media giant TimeW...</td>\n",
              "    </tr>\n",
              "    <tr>\n",
              "      <th>1</th>\n",
              "      <td>business</td>\n",
              "      <td>Dollar gains on Greenspan speech\\n</td>\n",
              "      <td>[\\n, The dollar has hit its highest level agai...</td>\n",
              "    </tr>\n",
              "    <tr>\n",
              "      <th>2</th>\n",
              "      <td>business</td>\n",
              "      <td>Yukos unit buyer faces loan claim\\n</td>\n",
              "      <td>[\\n, The owners of embattled Russian oil giant...</td>\n",
              "    </tr>\n",
              "    <tr>\n",
              "      <th>3</th>\n",
              "      <td>business</td>\n",
              "      <td>High fuel prices hit BA's profits\\n</td>\n",
              "      <td>[\\n, British Airways has blamed high fuel pric...</td>\n",
              "    </tr>\n",
              "    <tr>\n",
              "      <th>4</th>\n",
              "      <td>business</td>\n",
              "      <td>Pernod takeover talk lifts Domecq\\n</td>\n",
              "      <td>[\\n, Shares in UK drinks and food firm Allied ...</td>\n",
              "    </tr>\n",
              "  </tbody>\n",
              "</table>\n",
              "</div>"
            ]
          },
          "metadata": {
            "tags": []
          },
          "execution_count": 41
        }
      ]
    },
    {
      "cell_type": "code",
      "metadata": {
        "id": "yzbIVNBi92qo"
      },
      "source": [
        "df_copy = df.copy()"
      ],
      "execution_count": null,
      "outputs": []
    },
    {
      "cell_type": "code",
      "metadata": {
        "colab": {
          "base_uri": "https://localhost:8080/",
          "height": 417
        },
        "id": "W8XQCMPU-GHm",
        "outputId": "226cedcb-07ab-4ab1-bb17-b3b764a30cbe"
      },
      "source": [
        "df_copy"
      ],
      "execution_count": null,
      "outputs": [
        {
          "output_type": "execute_result",
          "data": {
            "text/plain": [
              "      category                                title  \\\n",
              "0     business  Ad sales boost Time Warner profit\\n   \n",
              "1     business   Dollar gains on Greenspan speech\\n   \n",
              "2     business  Yukos unit buyer faces loan claim\\n   \n",
              "3     business  High fuel prices hit BA's profits\\n   \n",
              "4     business  Pernod takeover talk lifts Domecq\\n   \n",
              "...        ...                                  ...   \n",
              "2220      tech   BT program to beat dialler scams\\n   \n",
              "2221      tech    Spam e-mails tempt net shoppers\\n   \n",
              "2222      tech            Be careful how you code\\n   \n",
              "2223      tech    US cyber security chief resigns\\n   \n",
              "2224      tech   Losing yourself in online gaming\\n   \n",
              "\n",
              "                                                   body  \n",
              "0     [\\n, Quarterly profits at US media giant TimeW...  \n",
              "1     [\\n, The dollar has hit its highest level agai...  \n",
              "2     [\\n, The owners of embattled Russian oil giant...  \n",
              "3     [\\n, British Airways has blamed high fuel pric...  \n",
              "4     [\\n, Shares in UK drinks and food firm Allied ...  \n",
              "...                                                 ...  \n",
              "2220  [\\n, BT is introducing two initiatives to help...  \n",
              "2221  [\\n, Computer users across the world continue ...  \n",
              "2222  [\\n, A new European directive could put softwa...  \n",
              "2223  [\\n, The man making sure US computer networks ...  \n",
              "2224  [\\n, Online role playing games are time-consum...  \n",
              "\n",
              "[2225 rows x 3 columns]"
            ],
            "text/html": [
              "<div>\n",
              "<style scoped>\n",
              "    .dataframe tbody tr th:only-of-type {\n",
              "        vertical-align: middle;\n",
              "    }\n",
              "\n",
              "    .dataframe tbody tr th {\n",
              "        vertical-align: top;\n",
              "    }\n",
              "\n",
              "    .dataframe thead th {\n",
              "        text-align: right;\n",
              "    }\n",
              "</style>\n",
              "<table border=\"1\" class=\"dataframe\">\n",
              "  <thead>\n",
              "    <tr style=\"text-align: right;\">\n",
              "      <th></th>\n",
              "      <th>category</th>\n",
              "      <th>title</th>\n",
              "      <th>body</th>\n",
              "    </tr>\n",
              "  </thead>\n",
              "  <tbody>\n",
              "    <tr>\n",
              "      <th>0</th>\n",
              "      <td>business</td>\n",
              "      <td>Ad sales boost Time Warner profit\\n</td>\n",
              "      <td>[\\n, Quarterly profits at US media giant TimeW...</td>\n",
              "    </tr>\n",
              "    <tr>\n",
              "      <th>1</th>\n",
              "      <td>business</td>\n",
              "      <td>Dollar gains on Greenspan speech\\n</td>\n",
              "      <td>[\\n, The dollar has hit its highest level agai...</td>\n",
              "    </tr>\n",
              "    <tr>\n",
              "      <th>2</th>\n",
              "      <td>business</td>\n",
              "      <td>Yukos unit buyer faces loan claim\\n</td>\n",
              "      <td>[\\n, The owners of embattled Russian oil giant...</td>\n",
              "    </tr>\n",
              "    <tr>\n",
              "      <th>3</th>\n",
              "      <td>business</td>\n",
              "      <td>High fuel prices hit BA's profits\\n</td>\n",
              "      <td>[\\n, British Airways has blamed high fuel pric...</td>\n",
              "    </tr>\n",
              "    <tr>\n",
              "      <th>4</th>\n",
              "      <td>business</td>\n",
              "      <td>Pernod takeover talk lifts Domecq\\n</td>\n",
              "      <td>[\\n, Shares in UK drinks and food firm Allied ...</td>\n",
              "    </tr>\n",
              "    <tr>\n",
              "      <th>...</th>\n",
              "      <td>...</td>\n",
              "      <td>...</td>\n",
              "      <td>...</td>\n",
              "    </tr>\n",
              "    <tr>\n",
              "      <th>2220</th>\n",
              "      <td>tech</td>\n",
              "      <td>BT program to beat dialler scams\\n</td>\n",
              "      <td>[\\n, BT is introducing two initiatives to help...</td>\n",
              "    </tr>\n",
              "    <tr>\n",
              "      <th>2221</th>\n",
              "      <td>tech</td>\n",
              "      <td>Spam e-mails tempt net shoppers\\n</td>\n",
              "      <td>[\\n, Computer users across the world continue ...</td>\n",
              "    </tr>\n",
              "    <tr>\n",
              "      <th>2222</th>\n",
              "      <td>tech</td>\n",
              "      <td>Be careful how you code\\n</td>\n",
              "      <td>[\\n, A new European directive could put softwa...</td>\n",
              "    </tr>\n",
              "    <tr>\n",
              "      <th>2223</th>\n",
              "      <td>tech</td>\n",
              "      <td>US cyber security chief resigns\\n</td>\n",
              "      <td>[\\n, The man making sure US computer networks ...</td>\n",
              "    </tr>\n",
              "    <tr>\n",
              "      <th>2224</th>\n",
              "      <td>tech</td>\n",
              "      <td>Losing yourself in online gaming\\n</td>\n",
              "      <td>[\\n, Online role playing games are time-consum...</td>\n",
              "    </tr>\n",
              "  </tbody>\n",
              "</table>\n",
              "<p>2225 rows × 3 columns</p>\n",
              "</div>"
            ]
          },
          "metadata": {
            "tags": []
          },
          "execution_count": 44
        }
      ]
    },
    {
      "cell_type": "code",
      "metadata": {
        "id": "oa3rEGcj-KdM"
      },
      "source": [
        "to_string = lambda column: \" \".join(column)\n",
        "df['body'] = df['body'].apply(to_string)"
      ],
      "execution_count": null,
      "outputs": []
    },
    {
      "cell_type": "code",
      "metadata": {
        "colab": {
          "base_uri": "https://localhost:8080/"
        },
        "id": "9NcoYRlm-Whu",
        "outputId": "dbffe020-fd7c-4175-9f1e-daddc68fed5d"
      },
      "source": [
        "for category in categories:\n",
        "    length = len(df[df[\"category\"] == category])\n",
        "    print(f\"No. of {category} articles : {length}\")"
      ],
      "execution_count": null,
      "outputs": [
        {
          "output_type": "stream",
          "text": [
            "No. of business articles : 510\n",
            "No. of entertainment articles : 386\n",
            "No. of politics articles : 417\n",
            "No. of sport articles : 511\n",
            "No. of tech articles : 401\n"
          ],
          "name": "stdout"
        }
      ]
    },
    {
      "cell_type": "code",
      "metadata": {
        "id": "c7AiIW5f-Zqq"
      },
      "source": [
        "df.to_csv(os.path.join(ROOT_DIR, \"data\", \"preprocessed\", \"raw.csv\"), index=False)"
      ],
      "execution_count": null,
      "outputs": []
    },
    {
      "cell_type": "code",
      "metadata": {
        "id": "XeRtVoiG-aJF"
      },
      "source": [
        ""
      ],
      "execution_count": null,
      "outputs": []
    }
  ]
}